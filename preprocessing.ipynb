{
 "cells": [
  {
   "cell_type": "markdown",
   "id": "fb01dd9d",
   "metadata": {},
   "source": [
    "# pip & import"
   ]
  },
  {
   "cell_type": "code",
   "execution_count": 31,
   "id": "418ece8f",
   "metadata": {},
   "outputs": [
    {
     "name": "stdout",
     "output_type": "stream",
     "text": [
      "Requirement already satisfied: pandas in c:\\users\\misur\\appdata\\local\\programs\\python\\python312\\lib\\site-packages (2.2.2)\n",
      "Requirement already satisfied: opencv-python in c:\\users\\misur\\appdata\\local\\programs\\python\\python312\\lib\\site-packages (4.10.0.84)\n",
      "Requirement already satisfied: numpy in c:\\users\\misur\\appdata\\local\\programs\\python\\python312\\lib\\site-packages (1.26.4)\n",
      "Requirement already satisfied: scikit-image in c:\\users\\misur\\appdata\\local\\programs\\python\\python312\\lib\\site-packages (0.24.0)\n",
      "Requirement already satisfied: scipy in c:\\users\\misur\\appdata\\local\\programs\\python\\python312\\lib\\site-packages (1.14.1)\n",
      "Requirement already satisfied: scikit-learn in c:\\users\\misur\\appdata\\local\\programs\\python\\python312\\lib\\site-packages (1.5.2)\n",
      "Requirement already satisfied: matplotlib in c:\\users\\misur\\appdata\\local\\programs\\python\\python312\\lib\\site-packages (3.9.2)\n",
      "Requirement already satisfied: tqdm in c:\\users\\misur\\appdata\\local\\programs\\python\\python312\\lib\\site-packages (4.66.5)\n",
      "Requirement already satisfied: python-dateutil>=2.8.2 in c:\\users\\misur\\appdata\\roaming\\python\\python312\\site-packages (from pandas) (2.9.0.post0)\n",
      "Requirement already satisfied: pytz>=2020.1 in c:\\users\\misur\\appdata\\local\\programs\\python\\python312\\lib\\site-packages (from pandas) (2024.2)\n",
      "Requirement already satisfied: tzdata>=2022.7 in c:\\users\\misur\\appdata\\local\\programs\\python\\python312\\lib\\site-packages (from pandas) (2024.1)\n",
      "Requirement already satisfied: networkx>=2.8 in c:\\users\\misur\\appdata\\local\\programs\\python\\python312\\lib\\site-packages (from scikit-image) (3.4.2)\n",
      "Requirement already satisfied: pillow>=9.1 in c:\\users\\misur\\appdata\\local\\programs\\python\\python312\\lib\\site-packages (from scikit-image) (10.4.0)\n",
      "Requirement already satisfied: imageio>=2.33 in c:\\users\\misur\\appdata\\local\\programs\\python\\python312\\lib\\site-packages (from scikit-image) (2.36.0)\n",
      "Requirement already satisfied: tifffile>=2022.8.12 in c:\\users\\misur\\appdata\\local\\programs\\python\\python312\\lib\\site-packages (from scikit-image) (2024.9.20)\n",
      "Requirement already satisfied: packaging>=21 in c:\\users\\misur\\appdata\\roaming\\python\\python312\\site-packages (from scikit-image) (24.1)\n",
      "Requirement already satisfied: lazy-loader>=0.4 in c:\\users\\misur\\appdata\\local\\programs\\python\\python312\\lib\\site-packages (from scikit-image) (0.4)\n",
      "Requirement already satisfied: joblib>=1.2.0 in c:\\users\\misur\\appdata\\local\\programs\\python\\python312\\lib\\site-packages (from scikit-learn) (1.4.2)\n",
      "Requirement already satisfied: threadpoolctl>=3.1.0 in c:\\users\\misur\\appdata\\local\\programs\\python\\python312\\lib\\site-packages (from scikit-learn) (3.5.0)\n",
      "Requirement already satisfied: contourpy>=1.0.1 in c:\\users\\misur\\appdata\\local\\programs\\python\\python312\\lib\\site-packages (from matplotlib) (1.3.0)\n",
      "Requirement already satisfied: cycler>=0.10 in c:\\users\\misur\\appdata\\local\\programs\\python\\python312\\lib\\site-packages (from matplotlib) (0.12.1)\n",
      "Requirement already satisfied: fonttools>=4.22.0 in c:\\users\\misur\\appdata\\local\\programs\\python\\python312\\lib\\site-packages (from matplotlib) (4.53.1)\n",
      "Requirement already satisfied: kiwisolver>=1.3.1 in c:\\users\\misur\\appdata\\local\\programs\\python\\python312\\lib\\site-packages (from matplotlib) (1.4.7)\n",
      "Requirement already satisfied: pyparsing>=2.3.1 in c:\\users\\misur\\appdata\\local\\programs\\python\\python312\\lib\\site-packages (from matplotlib) (3.1.4)\n",
      "Requirement already satisfied: colorama in c:\\users\\misur\\appdata\\roaming\\python\\python312\\site-packages (from tqdm) (0.4.6)\n",
      "Requirement already satisfied: six>=1.5 in c:\\users\\misur\\appdata\\roaming\\python\\python312\\site-packages (from python-dateutil>=2.8.2->pandas) (1.16.0)\n",
      "Note: you may need to restart the kernel to use updated packages.\n"
     ]
    },
    {
     "name": "stderr",
     "output_type": "stream",
     "text": [
      "\n",
      "[notice] A new release of pip is available: 25.0.1 -> 25.1.1\n",
      "[notice] To update, run: python.exe -m pip install --upgrade pip\n"
     ]
    }
   ],
   "source": [
    "pip install pandas opencv-python numpy scikit-image scipy scikit-learn matplotlib tqdm"
   ]
  },
  {
   "cell_type": "code",
   "execution_count": 32,
   "id": "f32e98f6",
   "metadata": {},
   "outputs": [],
   "source": [
    "import pandas as pd\n",
    "import cv2\n",
    "import numpy as np\n",
    "from skimage.feature import hog, local_binary_pattern, graycomatrix, graycoprops\n",
    "from skimage.measure import moments_hu\n",
    "from scipy.stats import skew, entropy\n",
    "from sklearn.preprocessing import StandardScaler\n",
    "from sklearn.decomposition import PCA\n",
    "import os\n",
    "import matplotlib.pyplot as plt\n",
    "from tqdm import tqdm"
   ]
  },
  {
   "cell_type": "markdown",
   "id": "c0060020",
   "metadata": {},
   "source": [
    "# CSV generation"
   ]
  },
  {
   "cell_type": "code",
   "execution_count": null,
   "id": "787c85e6",
   "metadata": {},
   "outputs": [
    {
     "name": "stdout",
     "output_type": "stream",
     "text": [
      "CSV fájl elkészült: kep_osztalyok.csv\n"
     ]
    }
   ],
   "source": [
    "import os\n",
    "import shutil\n",
    "import csv\n",
    "\n",
    "# Input and output folders\n",
    "input_folder = 'images'\n",
    "output_folder = 'output_images'\n",
    "csv_file_path = 'image_classes.csv'\n",
    "\n",
    "# Only handle these classes\n",
    "classes = {'1', '2', '3'}\n",
    "\n",
    "# Create output subfolders\n",
    "for cls in classes:\n",
    "    os.makedirs(os.path.join(output_folder, cls), exist_ok=True)\n",
    "\n",
    "# Collect CSV rows\n",
    "csv_rows = [('class', 'path')]\n",
    "\n",
    "# Process files\n",
    "for filename in os.listdir(input_folder):\n",
    "    if filename.endswith('.png'):\n",
    "        try:\n",
    "            # Assumed filename format: name_class.png\n",
    "            class_part = filename.rsplit('_', 1)[-1].split('.')[0]\n",
    "            if class_part in classes:\n",
    "                src = os.path.join(input_folder, filename)\n",
    "                dst = os.path.join(output_folder, class_part, filename)\n",
    "                shutil.copy(src, dst)\n",
    "\n",
    "                # Write relative path to CSV\n",
    "                relative_path = os.path.join(output_folder, class_part, filename)\n",
    "                csv_rows.append((class_part, relative_path))\n",
    "            else:\n",
    "                print(f\"Skipped (unknown class): {filename}\")\n",
    "        except Exception as e:\n",
    "            print(f\"Error: {filename} – {e}\")\n",
    "\n",
    "# Save CSV file\n",
    "with open(csv_file_path, mode='w', newline='', encoding='utf-8') as f:\n",
    "    writer = csv.writer(f)\n",
    "    writer.writerows(csv_rows)\n",
    "\n",
    "print(f\"CSV file created: {csv_file_path}\")\n"
   ]
  },
  {
   "cell_type": "markdown",
   "id": "03446eaa",
   "metadata": {},
   "source": [
    "# Preprocessing"
   ]
  },
  {
   "cell_type": "markdown",
   "id": "93742b70",
   "metadata": {},
   "source": [
    "## Setting images to a uniform resolution"
   ]
  },
  {
   "cell_type": "code",
   "execution_count": null,
   "id": "4b7a0f83",
   "metadata": {},
   "outputs": [],
   "source": [
    "import pandas as pd\n",
    "import cv2\n",
    "import numpy as np\n",
    "from sklearn.model_selection import train_test_split\n",
    "\n",
    "# Load CSV file\n",
    "data = pd.read_csv('image_classes.csv')\n",
    "image_paths = data['path'].values\n",
    "labels = data['class'].values\n",
    "\n",
    "# Load and resize images\n",
    "def load_images(paths, target_size=(128, 128)):\n",
    "    images = []\n",
    "    for path in paths:\n",
    "        img = cv2.imread(path, cv2.IMREAD_GRAYSCALE)  # Load as grayscale\n",
    "        img = cv2.resize(img, target_size)            # Resize\n",
    "        images.append(img)\n",
    "    return np.array(images)\n",
    "\n",
    "images = load_images(image_paths)\n",
    "clahe_images = images / 255.0  # Normalize to [0,1] range"
   ]
  },
  {
   "cell_type": "markdown",
   "id": "643b57b6",
   "metadata": {},
   "source": [
    "## Noise filtering - Gaussian blur"
   ]
  },
  {
   "cell_type": "code",
   "execution_count": 11,
   "id": "b9cda19d",
   "metadata": {},
   "outputs": [],
   "source": [
    "def denoise_images(images):\n",
    "    denoised = []\n",
    "    for img in images:\n",
    "        denoised_img = cv2.GaussianBlur(img, (5, 5), 0)\n",
    "        denoised.append(denoised_img)\n",
    "    return np.array(denoised)"
   ]
  },
  {
   "cell_type": "markdown",
   "id": "0a1ae0c7",
   "metadata": {},
   "source": [
    "## Contrast Enhancement - CLAHE (Contrast Limited Adaptive Histogram Equalization)"
   ]
  },
  {
   "cell_type": "code",
   "execution_count": 12,
   "id": "5dac05d3",
   "metadata": {},
   "outputs": [],
   "source": [
    "def apply_clahe(images):\n",
    "    clahe = cv2.createCLAHE(clipLimit=2.0, tileGridSize=(8, 8))\n",
    "    clahe_images = []\n",
    "    for img in images:\n",
    "        clahe_img = clahe.apply((img * 255).astype(np.uint8)) / 255.0\n",
    "        clahe_images.append(clahe_img)\n",
    "    return np.array(clahe_images)"
   ]
  },
  {
   "cell_type": "markdown",
   "id": "33cce69f",
   "metadata": {},
   "source": [
    "## Edge highlighting"
   ]
  },
  {
   "cell_type": "markdown",
   "id": "c2ae8c3e",
   "metadata": {},
   "source": [
    "### Sobel"
   ]
  },
  {
   "cell_type": "code",
   "execution_count": 13,
   "id": "09b47673",
   "metadata": {},
   "outputs": [],
   "source": [
    "def sobel_edge_detection(images):\n",
    "    edge_images = []\n",
    "    for img in images:\n",
    "        sobel_x = cv2.Sobel(img, cv2.CV_64F, 1, 0, ksize=3)\n",
    "        sobel_y = cv2.Sobel(img, cv2.CV_64F, 0, 1, ksize=3)\n",
    "        sobel = np.sqrt(sobel_x**2 + sobel_y**2)\n",
    "        edge_images.append(sobel / sobel.max())\n",
    "    return np.array(edge_images)"
   ]
  },
  {
   "cell_type": "markdown",
   "id": "b1f0795a",
   "metadata": {},
   "source": [
    "### Canny"
   ]
  },
  {
   "cell_type": "code",
   "execution_count": 14,
   "id": "b6640e0d",
   "metadata": {},
   "outputs": [],
   "source": [
    "def canny_edge_detection(images, low_threshold=0.1, high_threshold=0.3):\n",
    "    edge_images = []\n",
    "    for img in images:\n",
    "        img_uint8 = (img * 255).astype(np.uint8)\n",
    "        edges = cv2.Canny(img_uint8, low_threshold * 255, high_threshold * 255)\n",
    "        edge_images.append(edges / 255.0)\n",
    "    return np.array(edge_images)"
   ]
  },
  {
   "cell_type": "markdown",
   "id": "cfe051e6",
   "metadata": {},
   "source": [
    "# Extract features"
   ]
  },
  {
   "cell_type": "markdown",
   "id": "f02fb988",
   "metadata": {},
   "source": [
    "## HOG (Histogram of Oriented Gradients)"
   ]
  },
  {
   "cell_type": "code",
   "execution_count": 15,
   "id": "7061bf9f",
   "metadata": {},
   "outputs": [],
   "source": [
    "def extract_hog_features(images):\n",
    "    hog_features = []\n",
    "    for img in images:\n",
    "        features, _ = hog(img, pixels_per_cell=(8, 8), cells_per_block=(2, 2), visualize=True)\n",
    "        hog_features.append(features)\n",
    "    return np.array(hog_features)"
   ]
  },
  {
   "cell_type": "markdown",
   "id": "b327eccd",
   "metadata": {},
   "source": [
    "## LBP (Local Binary Patterns)"
   ]
  },
  {
   "cell_type": "code",
   "execution_count": 16,
   "id": "9498d8c4",
   "metadata": {},
   "outputs": [],
   "source": [
    "def extract_lbp_features(images, radius=3, n_points=24):\n",
    "    lbp_features = []\n",
    "    for img in images:\n",
    "        lbp = local_binary_pattern(img, n_points, radius, method='uniform')\n",
    "        hist, _ = np.histogram(lbp.ravel(), bins=np.arange(0, n_points + 3), density=True)\n",
    "        lbp_features.append(hist)\n",
    "    return np.array(lbp_features)"
   ]
  },
  {
   "cell_type": "markdown",
   "id": "554b9069",
   "metadata": {},
   "source": [
    "## SIFT (Scale-Invariant Feature Transform)"
   ]
  },
  {
   "cell_type": "code",
   "execution_count": 17,
   "id": "d5995744",
   "metadata": {},
   "outputs": [],
   "source": [
    "def extract_sift_features(images, max_features=100):\n",
    "    sift = cv2.SIFT_create()\n",
    "    sift_features = []\n",
    "    for img in images:\n",
    "        img_uint8 = (img * 255).astype(np.uint8)\n",
    "        keypoints, descriptors = sift.detectAndCompute(img_uint8, None)\n",
    "        if descriptors is not None and len(descriptors) > 0:\n",
    "            if len(descriptors) > max_features:\n",
    "                descriptors = descriptors[:max_features]\n",
    "            padded_descriptors = np.zeros((max_features, 128))\n",
    "            padded_descriptors[:len(descriptors)] = descriptors\n",
    "        else:\n",
    "            padded_descriptors = np.zeros((max_features, 128))\n",
    "        sift_features.append(padded_descriptors.flatten())\n",
    "    return np.array(sift_features)"
   ]
  },
  {
   "cell_type": "markdown",
   "id": "9028c3a0",
   "metadata": {},
   "source": [
    "## GLCM (Gray-Level Co-occurrence Matrix)"
   ]
  },
  {
   "cell_type": "code",
   "execution_count": 18,
   "id": "ab4f6a53",
   "metadata": {},
   "outputs": [],
   "source": [
    "def extract_glcm_features(images, distances=[1], angles=[0, np.pi/4, np.pi/2, 3*np.pi/4], levels=256):\n",
    "    glcm_features = []\n",
    "    for img in images:\n",
    "        img_quantized = (img * (levels - 1)).astype(np.uint8)\n",
    "        glcm = graycomatrix(img_quantized, distances=distances, angles=angles, levels=levels, symmetric=True, normed=True)\n",
    "        contrast = graycoprops(glcm, 'contrast').flatten()\n",
    "        homogeneity = graycoprops(glcm, 'homogeneity').flatten()\n",
    "        energy = graycoprops(glcm, 'energy').flatten()\n",
    "        correlation = graycoprops(glcm, 'correlation').flatten()\n",
    "        features = np.concatenate([contrast, homogeneity, energy, correlation])\n",
    "        glcm_features.append(features)\n",
    "    return np.array(glcm_features)"
   ]
  },
  {
   "cell_type": "markdown",
   "id": "52d3c2da",
   "metadata": {},
   "source": [
    "## Statistical features"
   ]
  },
  {
   "cell_type": "code",
   "execution_count": 19,
   "id": "f64af4a1",
   "metadata": {},
   "outputs": [],
   "source": [
    "def extract_statistical_features(images):\n",
    "    stat_features = []\n",
    "    for img in images:\n",
    "        mean = np.mean(img)\n",
    "        std = np.std(img)\n",
    "        skewness = skew(img.flatten())\n",
    "        hist, _ = np.histogram(img.flatten(), bins=256, range=[0, 1], density=True)\n",
    "        img_entropy = entropy(hist)\n",
    "        hu_moments = moments_hu(img)\n",
    "        features = np.concatenate([[mean, std, skewness, img_entropy], hu_moments])\n",
    "        stat_features.append(features)\n",
    "    return np.array(stat_features)"
   ]
  },
  {
   "cell_type": "markdown",
   "id": "3b6350a8",
   "metadata": {},
   "source": [
    "# Analysis of variance and curve plotting"
   ]
  },
  {
   "cell_type": "code",
   "execution_count": null,
   "id": "6a2fd96b",
   "metadata": {},
   "outputs": [],
   "source": [
    "def analyze_variance(features_scaled, feature_name, preprocess_name, feature_dir):\n",
    "    pca = PCA()\n",
    "    pca.fit(features_scaled)\n",
    "    cumulative_variance = np.cumsum(pca.explained_variance_ratio_)\n",
    "    \n",
    "    var_thresholds = [0.80, 0.90, 0.95]\n",
    "    for threshold in var_thresholds:\n",
    "        n_components = np.where(cumulative_variance >= threshold)[0][0] + 1\n",
    "        print(f\"{feature_name}_{preprocess_name}: {threshold*100}% variance is reached with {n_components} components.\")\n",
    "    \n",
    "    plt.figure(figsize=(10, 6))\n",
    "    plt.plot(range(1, len(cumulative_variance) + 1), cumulative_variance, marker='o')\n",
    "    plt.xlabel('Number of components')\n",
    "    plt.ylabel('Cumulative explained variance ratio')\n",
    "    plt.title(f'{feature_name}_{preprocess_name} PCA explained variance')\n",
    "    plt.grid(True)\n",
    "    plt.savefig(os.path.join(feature_dir, f'{feature_name}_{preprocess_name}_variance_plot.png'))\n",
    "    plt.close()\n",
    "    print(f\"{feature_name}_{preprocess_name}_variance_plot.png saved.\")\n",
    "    \n",
    "    return cumulative_variance"
   ]
  },
  {
   "cell_type": "markdown",
   "id": "06bd9471",
   "metadata": {},
   "source": [
    "# Save original features"
   ]
  },
  {
   "cell_type": "code",
   "execution_count": null,
   "id": "49c2485b",
   "metadata": {},
   "outputs": [],
   "source": [
    "def save_original_to_csv(features, labels, feature_name, preprocess_name, output_dir):\n",
    "    columns = [f'{feature_name}_{i}' for i in range(features.shape[1])] + ['class']\n",
    "    df = pd.DataFrame(np.hstack((features, labels.reshape(-1, 1))), columns=columns)\n",
    "    filename = os.path.join(output_dir, f'{feature_name}_{preprocess_name}_features.csv')\n",
    "    df.to_csv(filename, index=False)\n",
    "    print(f\"{filename} saved.\")"
   ]
  },
  {
   "cell_type": "markdown",
   "id": "4bf58409",
   "metadata": {},
   "source": [
    "# PCA dimension reduction and saving"
   ]
  },
  {
   "cell_type": "code",
   "execution_count": null,
   "id": "a4f2185d",
   "metadata": {},
   "outputs": [],
   "source": [
    "def save_pca_to_csv(reduced_features, labels, feature_name, preprocess_name, feature_dir, n_components):\n",
    "    columns = [f'pca_{i}' for i in range(n_components)] + ['class']\n",
    "    df = pd.DataFrame(np.hstack((reduced_features, labels.reshape(-1, 1))), columns=columns)\n",
    "    filename = os.path.join(feature_dir, f'{feature_name}_{preprocess_name}_pca_{n_components}.csv')\n",
    "    df.to_csv(filename, index=False)\n",
    "    print(f\"{filename} saved.\")"
   ]
  },
  {
   "cell_type": "code",
   "execution_count": null,
   "id": "4305521b",
   "metadata": {},
   "outputs": [],
   "source": [
    "def apply_pca_and_save(features, labels, feature_name, preprocess_name, output_dir, n_components_list):\n",
    "    scaler = StandardScaler()\n",
    "    features_scaled = scaler.fit_transform(features)\n",
    "    \n",
    "    feature_dir = os.path.join(output_dir, feature_name)\n",
    "    os.makedirs(feature_dir, exist_ok=True)\n",
    "    \n",
    "    analyze_variance(features_scaled, feature_name, preprocess_name, feature_dir)\n",
    "    \n",
    "    max_components = min(features.shape[0], features.shape[1])\n",
    "    \n",
    "    for n_components in n_components_list:\n",
    "        if n_components > max_components:\n",
    "            print(f\"{feature_name}_{preprocess_name}: {n_components} components not possible, max {max_components}.\")\n",
    "            continue\n",
    "        \n",
    "        pca = PCA(n_components=n_components)\n",
    "        reduced_features = pca.fit_transform(features_scaled)\n",
    "        save_pca_to_csv(reduced_features, labels, feature_name, preprocess_name, feature_dir, n_components)"
   ]
  },
  {
   "cell_type": "markdown",
   "id": "904c83fa",
   "metadata": {},
   "source": [
    "# Save original characteristics and PCA reduced characteristics"
   ]
  },
  {
   "cell_type": "code",
   "execution_count": null,
   "id": "62037614",
   "metadata": {},
   "outputs": [],
   "source": [
    "# Create main directories\n",
    "original_output_dir = 'original_features'\n",
    "pca_output_dir = 'feature_reduction'\n",
    "os.makedirs(original_output_dir, exist_ok=True)\n",
    "os.makedirs(pca_output_dir, exist_ok=True)"
   ]
  },
  {
   "cell_type": "code",
   "execution_count": null,
   "id": "53c30efa",
   "metadata": {},
   "outputs": [],
   "source": [
    "# Preprocessing types and images\n",
    "preprocess_types = {\n",
    "    'original': clahe_images,\n",
    "    'gaussian': denoise_images(clahe_images),\n",
    "    'clahe': apply_clahe(clahe_images),\n",
    "    'sobel': sobel_edge_detection(clahe_images),\n",
    "    'canny': canny_edge_detection(clahe_images)\n",
    "}"
   ]
  },
  {
   "cell_type": "code",
   "execution_count": null,
   "id": "b9f953ef",
   "metadata": {},
   "outputs": [],
   "source": [
    "# List of component numbers\n",
    "n_components_list = [10, 20, 50, 100, 200, 500, 1000]"
   ]
  },
  {
   "cell_type": "code",
   "execution_count": null,
   "id": "b5813b68",
   "metadata": {},
   "outputs": [
    {
     "name": "stderr",
     "output_type": "stream",
     "text": [
      "Előfeldolgozási típusok:   0%|          | 0/5 [00:00<?, ?it/s]"
     ]
    },
    {
     "name": "stdout",
     "output_type": "stream",
     "text": [
      "Előfeldolgozás: original\n"
     ]
    },
    {
     "name": "stderr",
     "output_type": "stream",
     "text": [
      "c:\\Users\\misur\\AppData\\Local\\Programs\\Python\\Python312\\Lib\\site-packages\\skimage\\feature\\texture.py:360: UserWarning: Applying `local_binary_pattern` to floating-point images may give unexpected results when small numerical differences between adjacent pixels are present. It is recommended to use this function with images of integer dtype.\n",
      "  warnings.warn(\n"
     ]
    },
    {
     "name": "stdout",
     "output_type": "stream",
     "text": [
      "original_features\\original\\hog_original_features.csv mentve.\n",
      "original_features\\original\\lbp_original_features.csv mentve.\n"
     ]
    },
    {
     "name": "stderr",
     "output_type": "stream",
     "text": []
    },
    {
     "name": "stdout",
     "output_type": "stream",
     "text": [
      "original_features\\original\\sift_original_features.csv mentve.\n",
      "original_features\\original\\glcm_original_features.csv mentve.\n",
      "original_features\\original\\stat_original_features.csv mentve.\n"
     ]
    },
    {
     "name": "stderr",
     "output_type": "stream",
     "text": []
    },
    {
     "name": "stdout",
     "output_type": "stream",
     "text": [
      "original_features\\original\\hog_lbp_combined_original_features.csv mentve.\n"
     ]
    },
    {
     "name": "stderr",
     "output_type": "stream",
     "text": [
      "original eredeti jellemzők mentése: 100%|██████████| 7/7 [03:08<00:00, 26.94s/it]\n"
     ]
    },
    {
     "name": "stdout",
     "output_type": "stream",
     "text": [
      "original_features\\original\\all_combined_original_features.csv mentve.\n"
     ]
    },
    {
     "name": "stderr",
     "output_type": "stream",
     "text": []
    },
    {
     "name": "stdout",
     "output_type": "stream",
     "text": [
      "hog_original: 80.0% variancia eléréséhez 507 komponens szükséges.\n",
      "hog_original: 90.0% variancia eléréséhez 915 komponens szükséges.\n",
      "hog_original: 95.0% variancia eléréséhez 1299 komponens szükséges.\n",
      "hog_original_variance_plot.png mentve.\n",
      "feature_reduction\\original\\hog\\hog_original_pca_10.csv mentve.\n",
      "feature_reduction\\original\\hog\\hog_original_pca_20.csv mentve.\n",
      "feature_reduction\\original\\hog\\hog_original_pca_50.csv mentve.\n",
      "feature_reduction\\original\\hog\\hog_original_pca_100.csv mentve.\n",
      "feature_reduction\\original\\hog\\hog_original_pca_200.csv mentve.\n",
      "feature_reduction\\original\\hog\\hog_original_pca_500.csv mentve.\n"
     ]
    },
    {
     "name": "stderr",
     "output_type": "stream",
     "text": []
    },
    {
     "name": "stdout",
     "output_type": "stream",
     "text": [
      "feature_reduction\\original\\hog\\hog_original_pca_1000.csv mentve.\n",
      "lbp_original: 80.0% variancia eléréséhez 3 komponens szükséges.\n",
      "lbp_original: 90.0% variancia eléréséhez 7 komponens szükséges.\n",
      "lbp_original: 95.0% variancia eléréséhez 12 komponens szükséges.\n",
      "lbp_original_variance_plot.png mentve.\n",
      "feature_reduction\\original\\lbp\\lbp_original_pca_10.csv mentve.\n"
     ]
    },
    {
     "name": "stderr",
     "output_type": "stream",
     "text": []
    },
    {
     "name": "stdout",
     "output_type": "stream",
     "text": [
      "feature_reduction\\original\\lbp\\lbp_original_pca_20.csv mentve.\n",
      "lbp_original: 50 komponens nem lehetséges, max 26.\n",
      "lbp_original: 100 komponens nem lehetséges, max 26.\n",
      "lbp_original: 200 komponens nem lehetséges, max 26.\n",
      "lbp_original: 500 komponens nem lehetséges, max 26.\n",
      "lbp_original: 1000 komponens nem lehetséges, max 26.\n",
      "sift_original: 80.0% variancia eléréséhez 1156 komponens szükséges.\n",
      "sift_original: 90.0% variancia eléréséhez 1650 komponens szükséges.\n",
      "sift_original: 95.0% variancia eléréséhez 2052 komponens szükséges.\n",
      "sift_original_variance_plot.png mentve.\n",
      "feature_reduction\\original\\sift\\sift_original_pca_10.csv mentve.\n",
      "feature_reduction\\original\\sift\\sift_original_pca_20.csv mentve.\n",
      "feature_reduction\\original\\sift\\sift_original_pca_50.csv mentve.\n",
      "feature_reduction\\original\\sift\\sift_original_pca_100.csv mentve.\n",
      "feature_reduction\\original\\sift\\sift_original_pca_200.csv mentve.\n",
      "feature_reduction\\original\\sift\\sift_original_pca_500.csv mentve.\n"
     ]
    },
    {
     "name": "stderr",
     "output_type": "stream",
     "text": []
    },
    {
     "name": "stdout",
     "output_type": "stream",
     "text": [
      "feature_reduction\\original\\sift\\sift_original_pca_1000.csv mentve.\n",
      "glcm_original: 80.0% variancia eléréséhez 2 komponens szükséges.\n",
      "glcm_original: 90.0% variancia eléréséhez 3 komponens szükséges.\n",
      "glcm_original: 95.0% variancia eléréséhez 3 komponens szükséges.\n"
     ]
    },
    {
     "name": "stderr",
     "output_type": "stream",
     "text": []
    },
    {
     "name": "stdout",
     "output_type": "stream",
     "text": [
      "glcm_original_variance_plot.png mentve.\n",
      "feature_reduction\\original\\glcm\\glcm_original_pca_10.csv mentve.\n",
      "glcm_original: 20 komponens nem lehetséges, max 16.\n",
      "glcm_original: 50 komponens nem lehetséges, max 16.\n",
      "glcm_original: 100 komponens nem lehetséges, max 16.\n",
      "glcm_original: 200 komponens nem lehetséges, max 16.\n",
      "glcm_original: 500 komponens nem lehetséges, max 16.\n",
      "glcm_original: 1000 komponens nem lehetséges, max 16.\n",
      "stat_original: 80.0% variancia eléréséhez 3 komponens szükséges.\n",
      "stat_original: 90.0% variancia eléréséhez 4 komponens szükséges.\n",
      "stat_original: 95.0% variancia eléréséhez 5 komponens szükséges.\n",
      "stat_original_variance_plot.png mentve.\n"
     ]
    },
    {
     "name": "stderr",
     "output_type": "stream",
     "text": []
    },
    {
     "name": "stdout",
     "output_type": "stream",
     "text": [
      "feature_reduction\\original\\stat\\stat_original_pca_10.csv mentve.\n",
      "stat_original: 20 komponens nem lehetséges, max 11.\n",
      "stat_original: 50 komponens nem lehetséges, max 11.\n",
      "stat_original: 100 komponens nem lehetséges, max 11.\n",
      "stat_original: 200 komponens nem lehetséges, max 11.\n",
      "stat_original: 500 komponens nem lehetséges, max 11.\n",
      "stat_original: 1000 komponens nem lehetséges, max 11.\n",
      "hog_lbp_combined_original: 80.0% variancia eléréséhez 506 komponens szükséges.\n",
      "hog_lbp_combined_original: 90.0% variancia eléréséhez 916 komponens szükséges.\n",
      "hog_lbp_combined_original: 95.0% variancia eléréséhez 1300 komponens szükséges.\n",
      "hog_lbp_combined_original_variance_plot.png mentve.\n",
      "feature_reduction\\original\\hog_lbp_combined\\hog_lbp_combined_original_pca_10.csv mentve.\n",
      "feature_reduction\\original\\hog_lbp_combined\\hog_lbp_combined_original_pca_20.csv mentve.\n",
      "feature_reduction\\original\\hog_lbp_combined\\hog_lbp_combined_original_pca_50.csv mentve.\n",
      "feature_reduction\\original\\hog_lbp_combined\\hog_lbp_combined_original_pca_100.csv mentve.\n",
      "feature_reduction\\original\\hog_lbp_combined\\hog_lbp_combined_original_pca_200.csv mentve.\n",
      "feature_reduction\\original\\hog_lbp_combined\\hog_lbp_combined_original_pca_500.csv mentve.\n"
     ]
    },
    {
     "name": "stderr",
     "output_type": "stream",
     "text": []
    },
    {
     "name": "stdout",
     "output_type": "stream",
     "text": [
      "feature_reduction\\original\\hog_lbp_combined\\hog_lbp_combined_original_pca_1000.csv mentve.\n",
      "all_combined_original: 80.0% variancia eléréséhez 1207 komponens szükséges.\n",
      "all_combined_original: 90.0% variancia eléréséhez 1759 komponens szükséges.\n",
      "all_combined_original: 95.0% variancia eléréséhez 2188 komponens szükséges.\n",
      "all_combined_original_variance_plot.png mentve.\n",
      "feature_reduction\\original\\all_combined\\all_combined_original_pca_10.csv mentve.\n",
      "feature_reduction\\original\\all_combined\\all_combined_original_pca_20.csv mentve.\n",
      "feature_reduction\\original\\all_combined\\all_combined_original_pca_50.csv mentve.\n",
      "feature_reduction\\original\\all_combined\\all_combined_original_pca_100.csv mentve.\n",
      "feature_reduction\\original\\all_combined\\all_combined_original_pca_200.csv mentve.\n",
      "feature_reduction\\original\\all_combined\\all_combined_original_pca_500.csv mentve.\n"
     ]
    },
    {
     "name": "stderr",
     "output_type": "stream",
     "text": [
      "original PCA csökkentés: 100%|██████████| 7/7 [07:23<00:00, 63.38s/it]\n",
      "Előfeldolgozási típusok:  20%|██        | 1/5 [15:07<1:00:29, 907.40s/it]"
     ]
    },
    {
     "name": "stdout",
     "output_type": "stream",
     "text": [
      "feature_reduction\\original\\all_combined\\all_combined_original_pca_1000.csv mentve.\n",
      "Előfeldolgozás: gaussian\n"
     ]
    },
    {
     "name": "stderr",
     "output_type": "stream",
     "text": [
      "c:\\Users\\misur\\AppData\\Local\\Programs\\Python\\Python312\\Lib\\site-packages\\skimage\\feature\\texture.py:360: UserWarning: Applying `local_binary_pattern` to floating-point images may give unexpected results when small numerical differences between adjacent pixels are present. It is recommended to use this function with images of integer dtype.\n",
      "  warnings.warn(\n"
     ]
    },
    {
     "name": "stdout",
     "output_type": "stream",
     "text": [
      "original_features\\gaussian\\hog_gaussian_features.csv mentve.\n",
      "original_features\\gaussian\\lbp_gaussian_features.csv mentve.\n"
     ]
    },
    {
     "name": "stderr",
     "output_type": "stream",
     "text": []
    },
    {
     "name": "stdout",
     "output_type": "stream",
     "text": [
      "original_features\\gaussian\\sift_gaussian_features.csv mentve.\n",
      "original_features\\gaussian\\glcm_gaussian_features.csv mentve.\n",
      "original_features\\gaussian\\stat_gaussian_features.csv mentve.\n"
     ]
    },
    {
     "name": "stderr",
     "output_type": "stream",
     "text": []
    },
    {
     "name": "stdout",
     "output_type": "stream",
     "text": [
      "original_features\\gaussian\\hog_lbp_combined_gaussian_features.csv mentve.\n"
     ]
    },
    {
     "name": "stderr",
     "output_type": "stream",
     "text": [
      "gaussian eredeti jellemzők mentése: 100%|██████████| 7/7 [02:51<00:00, 24.53s/it]\n"
     ]
    },
    {
     "name": "stdout",
     "output_type": "stream",
     "text": [
      "original_features\\gaussian\\all_combined_gaussian_features.csv mentve.\n"
     ]
    },
    {
     "name": "stderr",
     "output_type": "stream",
     "text": []
    },
    {
     "name": "stdout",
     "output_type": "stream",
     "text": [
      "hog_gaussian: 80.0% variancia eléréséhez 491 komponens szükséges.\n",
      "hog_gaussian: 90.0% variancia eléréséhez 886 komponens szükséges.\n",
      "hog_gaussian: 95.0% variancia eléréséhez 1273 komponens szükséges.\n",
      "hog_gaussian_variance_plot.png mentve.\n",
      "feature_reduction\\gaussian\\hog\\hog_gaussian_pca_10.csv mentve.\n",
      "feature_reduction\\gaussian\\hog\\hog_gaussian_pca_20.csv mentve.\n",
      "feature_reduction\\gaussian\\hog\\hog_gaussian_pca_50.csv mentve.\n",
      "feature_reduction\\gaussian\\hog\\hog_gaussian_pca_100.csv mentve.\n",
      "feature_reduction\\gaussian\\hog\\hog_gaussian_pca_200.csv mentve.\n",
      "feature_reduction\\gaussian\\hog\\hog_gaussian_pca_500.csv mentve.\n"
     ]
    },
    {
     "name": "stderr",
     "output_type": "stream",
     "text": []
    },
    {
     "name": "stdout",
     "output_type": "stream",
     "text": [
      "feature_reduction\\gaussian\\hog\\hog_gaussian_pca_1000.csv mentve.\n",
      "lbp_gaussian: 80.0% variancia eléréséhez 3 komponens szükséges.\n",
      "lbp_gaussian: 90.0% variancia eléréséhez 6 komponens szükséges.\n",
      "lbp_gaussian: 95.0% variancia eléréséhez 11 komponens szükséges.\n",
      "lbp_gaussian_variance_plot.png mentve.\n"
     ]
    },
    {
     "name": "stderr",
     "output_type": "stream",
     "text": []
    },
    {
     "name": "stdout",
     "output_type": "stream",
     "text": [
      "feature_reduction\\gaussian\\lbp\\lbp_gaussian_pca_10.csv mentve.\n",
      "feature_reduction\\gaussian\\lbp\\lbp_gaussian_pca_20.csv mentve.\n",
      "lbp_gaussian: 50 komponens nem lehetséges, max 26.\n",
      "lbp_gaussian: 100 komponens nem lehetséges, max 26.\n",
      "lbp_gaussian: 200 komponens nem lehetséges, max 26.\n",
      "lbp_gaussian: 500 komponens nem lehetséges, max 26.\n",
      "lbp_gaussian: 1000 komponens nem lehetséges, max 26.\n",
      "sift_gaussian: 80.0% variancia eléréséhez 996 komponens szükséges.\n",
      "sift_gaussian: 90.0% variancia eléréséhez 1465 komponens szükséges.\n",
      "sift_gaussian: 95.0% variancia eléréséhez 1868 komponens szükséges.\n",
      "sift_gaussian_variance_plot.png mentve.\n",
      "feature_reduction\\gaussian\\sift\\sift_gaussian_pca_10.csv mentve.\n",
      "feature_reduction\\gaussian\\sift\\sift_gaussian_pca_20.csv mentve.\n",
      "feature_reduction\\gaussian\\sift\\sift_gaussian_pca_50.csv mentve.\n",
      "feature_reduction\\gaussian\\sift\\sift_gaussian_pca_100.csv mentve.\n",
      "feature_reduction\\gaussian\\sift\\sift_gaussian_pca_200.csv mentve.\n",
      "feature_reduction\\gaussian\\sift\\sift_gaussian_pca_500.csv mentve.\n"
     ]
    },
    {
     "name": "stderr",
     "output_type": "stream",
     "text": []
    },
    {
     "name": "stdout",
     "output_type": "stream",
     "text": [
      "feature_reduction\\gaussian\\sift\\sift_gaussian_pca_1000.csv mentve.\n",
      "glcm_gaussian: 80.0% variancia eléréséhez 2 komponens szükséges.\n",
      "glcm_gaussian: 90.0% variancia eléréséhez 3 komponens szükséges.\n",
      "glcm_gaussian: 95.0% variancia eléréséhez 3 komponens szükséges.\n",
      "glcm_gaussian_variance_plot.png mentve.\n"
     ]
    },
    {
     "name": "stderr",
     "output_type": "stream",
     "text": [
      "\n"
     ]
    },
    {
     "name": "stdout",
     "output_type": "stream",
     "text": [
      "feature_reduction\\gaussian\\glcm\\glcm_gaussian_pca_10.csv mentve.\n",
      "glcm_gaussian: 20 komponens nem lehetséges, max 16.\n",
      "glcm_gaussian: 50 komponens nem lehetséges, max 16.\n",
      "glcm_gaussian: 100 komponens nem lehetséges, max 16.\n",
      "glcm_gaussian: 200 komponens nem lehetséges, max 16.\n",
      "glcm_gaussian: 500 komponens nem lehetséges, max 16.\n",
      "glcm_gaussian: 1000 komponens nem lehetséges, max 16.\n",
      "stat_gaussian: 80.0% variancia eléréséhez 2 komponens szükséges.\n",
      "stat_gaussian: 90.0% variancia eléréséhez 3 komponens szükséges.\n",
      "stat_gaussian: 95.0% variancia eléréséhez 4 komponens szükséges.\n",
      "stat_gaussian_variance_plot.png mentve.\n",
      "feature_reduction\\gaussian\\stat\\stat_gaussian_pca_10.csv mentve.\n",
      "stat_gaussian: 20 komponens nem lehetséges, max 11.\n",
      "stat_gaussian: 50 komponens nem lehetséges, max 11.\n",
      "stat_gaussian: 100 komponens nem lehetséges, max 11.\n",
      "stat_gaussian: 200 komponens nem lehetséges, max 11.\n",
      "stat_gaussian: 500 komponens nem lehetséges, max 11.\n",
      "stat_gaussian: 1000 komponens nem lehetséges, max 11.\n"
     ]
    },
    {
     "name": "stderr",
     "output_type": "stream",
     "text": [
      "gaussian PCA csökkentés:  71%|███████▏  | 5/7 [03:28<00:57, 28.50s/it]\u001b[A"
     ]
    },
    {
     "name": "stdout",
     "output_type": "stream",
     "text": [
      "hog_lbp_combined_gaussian: 80.0% variancia eléréséhez 490 komponens szükséges.\n",
      "hog_lbp_combined_gaussian: 90.0% variancia eléréséhez 886 komponens szükséges.\n",
      "hog_lbp_combined_gaussian: 95.0% variancia eléréséhez 1274 komponens szükséges.\n",
      "hog_lbp_combined_gaussian_variance_plot.png mentve.\n",
      "feature_reduction\\gaussian\\hog_lbp_combined\\hog_lbp_combined_gaussian_pca_10.csv mentve.\n",
      "feature_reduction\\gaussian\\hog_lbp_combined\\hog_lbp_combined_gaussian_pca_20.csv mentve.\n",
      "feature_reduction\\gaussian\\hog_lbp_combined\\hog_lbp_combined_gaussian_pca_50.csv mentve.\n",
      "feature_reduction\\gaussian\\hog_lbp_combined\\hog_lbp_combined_gaussian_pca_100.csv mentve.\n",
      "feature_reduction\\gaussian\\hog_lbp_combined\\hog_lbp_combined_gaussian_pca_200.csv mentve.\n",
      "feature_reduction\\gaussian\\hog_lbp_combined\\hog_lbp_combined_gaussian_pca_500.csv mentve.\n"
     ]
    },
    {
     "name": "stderr",
     "output_type": "stream",
     "text": []
    },
    {
     "name": "stdout",
     "output_type": "stream",
     "text": [
      "feature_reduction\\gaussian\\hog_lbp_combined\\hog_lbp_combined_gaussian_pca_1000.csv mentve.\n",
      "all_combined_gaussian: 80.0% variancia eléréséhez 1091 komponens szükséges.\n",
      "all_combined_gaussian: 90.0% variancia eléréséhez 1625 komponens szükséges.\n",
      "all_combined_gaussian: 95.0% variancia eléréséhez 2061 komponens szükséges.\n",
      "all_combined_gaussian_variance_plot.png mentve.\n",
      "feature_reduction\\gaussian\\all_combined\\all_combined_gaussian_pca_10.csv mentve.\n",
      "feature_reduction\\gaussian\\all_combined\\all_combined_gaussian_pca_20.csv mentve.\n",
      "feature_reduction\\gaussian\\all_combined\\all_combined_gaussian_pca_50.csv mentve.\n",
      "feature_reduction\\gaussian\\all_combined\\all_combined_gaussian_pca_100.csv mentve.\n",
      "feature_reduction\\gaussian\\all_combined\\all_combined_gaussian_pca_200.csv mentve.\n",
      "feature_reduction\\gaussian\\all_combined\\all_combined_gaussian_pca_500.csv mentve.\n"
     ]
    },
    {
     "name": "stderr",
     "output_type": "stream",
     "text": [
      "gaussian PCA csökkentés: 100%|██████████| 7/7 [07:32<00:00, 64.65s/it]\n",
      "Előfeldolgozási típusok:  40%|████      | 2/5 [30:14<45:22, 907.47s/it]  "
     ]
    },
    {
     "name": "stdout",
     "output_type": "stream",
     "text": [
      "feature_reduction\\gaussian\\all_combined\\all_combined_gaussian_pca_1000.csv mentve.\n",
      "Előfeldolgozás: clahe\n"
     ]
    },
    {
     "name": "stderr",
     "output_type": "stream",
     "text": [
      "c:\\Users\\misur\\AppData\\Local\\Programs\\Python\\Python312\\Lib\\site-packages\\skimage\\feature\\texture.py:360: UserWarning: Applying `local_binary_pattern` to floating-point images may give unexpected results when small numerical differences between adjacent pixels are present. It is recommended to use this function with images of integer dtype.\n",
      "  warnings.warn(\n"
     ]
    },
    {
     "name": "stdout",
     "output_type": "stream",
     "text": [
      "original_features\\clahe\\hog_clahe_features.csv mentve.\n",
      "original_features\\clahe\\lbp_clahe_features.csv mentve.\n"
     ]
    },
    {
     "name": "stderr",
     "output_type": "stream",
     "text": []
    },
    {
     "name": "stdout",
     "output_type": "stream",
     "text": [
      "original_features\\clahe\\sift_clahe_features.csv mentve.\n",
      "original_features\\clahe\\glcm_clahe_features.csv mentve.\n",
      "original_features\\clahe\\stat_clahe_features.csv mentve.\n"
     ]
    },
    {
     "name": "stderr",
     "output_type": "stream",
     "text": []
    },
    {
     "name": "stdout",
     "output_type": "stream",
     "text": [
      "original_features\\clahe\\hog_lbp_combined_clahe_features.csv mentve.\n"
     ]
    },
    {
     "name": "stderr",
     "output_type": "stream",
     "text": [
      "clahe eredeti jellemzők mentése: 100%|██████████| 7/7 [03:04<00:00, 26.42s/it]\n"
     ]
    },
    {
     "name": "stdout",
     "output_type": "stream",
     "text": [
      "original_features\\clahe\\all_combined_clahe_features.csv mentve.\n"
     ]
    },
    {
     "name": "stderr",
     "output_type": "stream",
     "text": []
    },
    {
     "name": "stdout",
     "output_type": "stream",
     "text": [
      "hog_clahe: 80.0% variancia eléréséhez 521 komponens szükséges.\n",
      "hog_clahe: 90.0% variancia eléréséhez 922 komponens szükséges.\n",
      "hog_clahe: 95.0% variancia eléréséhez 1292 komponens szükséges.\n",
      "hog_clahe_variance_plot.png mentve.\n",
      "feature_reduction\\clahe\\hog\\hog_clahe_pca_10.csv mentve.\n",
      "feature_reduction\\clahe\\hog\\hog_clahe_pca_20.csv mentve.\n",
      "feature_reduction\\clahe\\hog\\hog_clahe_pca_50.csv mentve.\n",
      "feature_reduction\\clahe\\hog\\hog_clahe_pca_100.csv mentve.\n",
      "feature_reduction\\clahe\\hog\\hog_clahe_pca_200.csv mentve.\n",
      "feature_reduction\\clahe\\hog\\hog_clahe_pca_500.csv mentve.\n"
     ]
    },
    {
     "name": "stderr",
     "output_type": "stream",
     "text": []
    },
    {
     "name": "stdout",
     "output_type": "stream",
     "text": [
      "feature_reduction\\clahe\\hog\\hog_clahe_pca_1000.csv mentve.\n",
      "lbp_clahe: 80.0% variancia eléréséhez 3 komponens szükséges.\n",
      "lbp_clahe: 90.0% variancia eléréséhez 7 komponens szükséges.\n",
      "lbp_clahe: 95.0% variancia eléréséhez 11 komponens szükséges.\n",
      "lbp_clahe_variance_plot.png mentve.\n"
     ]
    },
    {
     "name": "stderr",
     "output_type": "stream",
     "text": []
    },
    {
     "name": "stdout",
     "output_type": "stream",
     "text": [
      "feature_reduction\\clahe\\lbp\\lbp_clahe_pca_10.csv mentve.\n",
      "feature_reduction\\clahe\\lbp\\lbp_clahe_pca_20.csv mentve.\n",
      "lbp_clahe: 50 komponens nem lehetséges, max 26.\n",
      "lbp_clahe: 100 komponens nem lehetséges, max 26.\n",
      "lbp_clahe: 200 komponens nem lehetséges, max 26.\n",
      "lbp_clahe: 500 komponens nem lehetséges, max 26.\n",
      "lbp_clahe: 1000 komponens nem lehetséges, max 26.\n",
      "sift_clahe: 80.0% variancia eléréséhez 1318 komponens szükséges.\n",
      "sift_clahe: 90.0% variancia eléréséhez 1841 komponens szükséges.\n",
      "sift_clahe: 95.0% variancia eléréséhez 2252 komponens szükséges.\n",
      "sift_clahe_variance_plot.png mentve.\n",
      "feature_reduction\\clahe\\sift\\sift_clahe_pca_10.csv mentve.\n",
      "feature_reduction\\clahe\\sift\\sift_clahe_pca_20.csv mentve.\n",
      "feature_reduction\\clahe\\sift\\sift_clahe_pca_50.csv mentve.\n",
      "feature_reduction\\clahe\\sift\\sift_clahe_pca_100.csv mentve.\n",
      "feature_reduction\\clahe\\sift\\sift_clahe_pca_200.csv mentve.\n",
      "feature_reduction\\clahe\\sift\\sift_clahe_pca_500.csv mentve.\n"
     ]
    },
    {
     "name": "stderr",
     "output_type": "stream",
     "text": []
    },
    {
     "name": "stdout",
     "output_type": "stream",
     "text": [
      "feature_reduction\\clahe\\sift\\sift_clahe_pca_1000.csv mentve.\n",
      "glcm_clahe: 80.0% variancia eléréséhez 2 komponens szükséges.\n",
      "glcm_clahe: 90.0% variancia eléréséhez 2 komponens szükséges.\n",
      "glcm_clahe: 95.0% variancia eléréséhez 3 komponens szükséges.\n"
     ]
    },
    {
     "name": "stderr",
     "output_type": "stream",
     "text": []
    },
    {
     "name": "stdout",
     "output_type": "stream",
     "text": [
      "glcm_clahe_variance_plot.png mentve.\n",
      "feature_reduction\\clahe\\glcm\\glcm_clahe_pca_10.csv mentve.\n",
      "glcm_clahe: 20 komponens nem lehetséges, max 16.\n",
      "glcm_clahe: 50 komponens nem lehetséges, max 16.\n",
      "glcm_clahe: 100 komponens nem lehetséges, max 16.\n",
      "glcm_clahe: 200 komponens nem lehetséges, max 16.\n",
      "glcm_clahe: 500 komponens nem lehetséges, max 16.\n",
      "glcm_clahe: 1000 komponens nem lehetséges, max 16.\n",
      "stat_clahe: 80.0% variancia eléréséhez 2 komponens szükséges.\n",
      "stat_clahe: 90.0% variancia eléréséhez 4 komponens szükséges.\n",
      "stat_clahe: 95.0% variancia eléréséhez 5 komponens szükséges.\n"
     ]
    },
    {
     "name": "stderr",
     "output_type": "stream",
     "text": []
    },
    {
     "name": "stdout",
     "output_type": "stream",
     "text": [
      "stat_clahe_variance_plot.png mentve.\n",
      "feature_reduction\\clahe\\stat\\stat_clahe_pca_10.csv mentve.\n",
      "stat_clahe: 20 komponens nem lehetséges, max 11.\n",
      "stat_clahe: 50 komponens nem lehetséges, max 11.\n",
      "stat_clahe: 100 komponens nem lehetséges, max 11.\n",
      "stat_clahe: 200 komponens nem lehetséges, max 11.\n",
      "stat_clahe: 500 komponens nem lehetséges, max 11.\n",
      "stat_clahe: 1000 komponens nem lehetséges, max 11.\n",
      "hog_lbp_combined_clahe: 80.0% variancia eléréséhez 521 komponens szükséges.\n",
      "hog_lbp_combined_clahe: 90.0% variancia eléréséhez 922 komponens szükséges.\n",
      "hog_lbp_combined_clahe: 95.0% variancia eléréséhez 1293 komponens szükséges.\n",
      "hog_lbp_combined_clahe_variance_plot.png mentve.\n",
      "feature_reduction\\clahe\\hog_lbp_combined\\hog_lbp_combined_clahe_pca_10.csv mentve.\n",
      "feature_reduction\\clahe\\hog_lbp_combined\\hog_lbp_combined_clahe_pca_20.csv mentve.\n",
      "feature_reduction\\clahe\\hog_lbp_combined\\hog_lbp_combined_clahe_pca_50.csv mentve.\n",
      "feature_reduction\\clahe\\hog_lbp_combined\\hog_lbp_combined_clahe_pca_100.csv mentve.\n",
      "feature_reduction\\clahe\\hog_lbp_combined\\hog_lbp_combined_clahe_pca_200.csv mentve.\n",
      "feature_reduction\\clahe\\hog_lbp_combined\\hog_lbp_combined_clahe_pca_500.csv mentve.\n"
     ]
    },
    {
     "name": "stderr",
     "output_type": "stream",
     "text": []
    },
    {
     "name": "stdout",
     "output_type": "stream",
     "text": [
      "feature_reduction\\clahe\\hog_lbp_combined\\hog_lbp_combined_clahe_pca_1000.csv mentve.\n",
      "all_combined_clahe: 80.0% variancia eléréséhez 1328 komponens szükséges.\n",
      "all_combined_clahe: 90.0% variancia eléréséhez 1890 komponens szükséges.\n",
      "all_combined_clahe: 95.0% variancia eléréséhez 2314 komponens szükséges.\n",
      "all_combined_clahe_variance_plot.png mentve.\n",
      "feature_reduction\\clahe\\all_combined\\all_combined_clahe_pca_10.csv mentve.\n",
      "feature_reduction\\clahe\\all_combined\\all_combined_clahe_pca_20.csv mentve.\n",
      "feature_reduction\\clahe\\all_combined\\all_combined_clahe_pca_50.csv mentve.\n",
      "feature_reduction\\clahe\\all_combined\\all_combined_clahe_pca_100.csv mentve.\n",
      "feature_reduction\\clahe\\all_combined\\all_combined_clahe_pca_200.csv mentve.\n",
      "feature_reduction\\clahe\\all_combined\\all_combined_clahe_pca_500.csv mentve.\n"
     ]
    },
    {
     "name": "stderr",
     "output_type": "stream",
     "text": [
      "clahe PCA csökkentés: 100%|██████████| 7/7 [07:51<00:00, 67.34s/it]\n",
      "Előfeldolgozási típusok:  60%|██████    | 3/5 [46:14<31:02, 931.13s/it]"
     ]
    },
    {
     "name": "stdout",
     "output_type": "stream",
     "text": [
      "feature_reduction\\clahe\\all_combined\\all_combined_clahe_pca_1000.csv mentve.\n",
      "Előfeldolgozás: sobel\n"
     ]
    },
    {
     "name": "stderr",
     "output_type": "stream",
     "text": [
      "c:\\Users\\misur\\AppData\\Local\\Programs\\Python\\Python312\\Lib\\site-packages\\skimage\\feature\\texture.py:360: UserWarning: Applying `local_binary_pattern` to floating-point images may give unexpected results when small numerical differences between adjacent pixels are present. It is recommended to use this function with images of integer dtype.\n",
      "  warnings.warn(\n"
     ]
    },
    {
     "name": "stdout",
     "output_type": "stream",
     "text": [
      "original_features\\sobel\\hog_sobel_features.csv mentve.\n",
      "original_features\\sobel\\lbp_sobel_features.csv mentve.\n"
     ]
    },
    {
     "name": "stderr",
     "output_type": "stream",
     "text": []
    },
    {
     "name": "stdout",
     "output_type": "stream",
     "text": [
      "original_features\\sobel\\sift_sobel_features.csv mentve.\n",
      "original_features\\sobel\\glcm_sobel_features.csv mentve.\n",
      "original_features\\sobel\\stat_sobel_features.csv mentve.\n"
     ]
    },
    {
     "name": "stderr",
     "output_type": "stream",
     "text": []
    },
    {
     "name": "stdout",
     "output_type": "stream",
     "text": [
      "original_features\\sobel\\hog_lbp_combined_sobel_features.csv mentve.\n"
     ]
    },
    {
     "name": "stderr",
     "output_type": "stream",
     "text": [
      "sobel eredeti jellemzők mentése: 100%|██████████| 7/7 [03:25<00:00, 29.42s/it]\n"
     ]
    },
    {
     "name": "stdout",
     "output_type": "stream",
     "text": [
      "original_features\\sobel\\all_combined_sobel_features.csv mentve.\n"
     ]
    },
    {
     "name": "stderr",
     "output_type": "stream",
     "text": []
    },
    {
     "name": "stdout",
     "output_type": "stream",
     "text": [
      "hog_sobel: 80.0% variancia eléréséhez 507 komponens szükséges.\n",
      "hog_sobel: 90.0% variancia eléréséhez 914 komponens szükséges.\n",
      "hog_sobel: 95.0% variancia eléréséhez 1298 komponens szükséges.\n",
      "hog_sobel_variance_plot.png mentve.\n",
      "feature_reduction\\sobel\\hog\\hog_sobel_pca_10.csv mentve.\n",
      "feature_reduction\\sobel\\hog\\hog_sobel_pca_20.csv mentve.\n",
      "feature_reduction\\sobel\\hog\\hog_sobel_pca_50.csv mentve.\n",
      "feature_reduction\\sobel\\hog\\hog_sobel_pca_100.csv mentve.\n",
      "feature_reduction\\sobel\\hog\\hog_sobel_pca_200.csv mentve.\n",
      "feature_reduction\\sobel\\hog\\hog_sobel_pca_500.csv mentve.\n"
     ]
    },
    {
     "name": "stderr",
     "output_type": "stream",
     "text": []
    },
    {
     "name": "stdout",
     "output_type": "stream",
     "text": [
      "feature_reduction\\sobel\\hog\\hog_sobel_pca_1000.csv mentve.\n",
      "lbp_sobel: 80.0% variancia eléréséhez 6 komponens szükséges.\n",
      "lbp_sobel: 90.0% variancia eléréséhez 12 komponens szükséges.\n",
      "lbp_sobel: 95.0% variancia eléréséhez 17 komponens szükséges.\n",
      "lbp_sobel_variance_plot.png mentve.\n"
     ]
    },
    {
     "name": "stderr",
     "output_type": "stream",
     "text": []
    },
    {
     "name": "stdout",
     "output_type": "stream",
     "text": [
      "feature_reduction\\sobel\\lbp\\lbp_sobel_pca_10.csv mentve.\n",
      "feature_reduction\\sobel\\lbp\\lbp_sobel_pca_20.csv mentve.\n",
      "lbp_sobel: 50 komponens nem lehetséges, max 26.\n",
      "lbp_sobel: 100 komponens nem lehetséges, max 26.\n",
      "lbp_sobel: 200 komponens nem lehetséges, max 26.\n",
      "lbp_sobel: 500 komponens nem lehetséges, max 26.\n",
      "lbp_sobel: 1000 komponens nem lehetséges, max 26.\n",
      "sift_sobel: 80.0% variancia eléréséhez 1124 komponens szükséges.\n",
      "sift_sobel: 90.0% variancia eléréséhez 1628 komponens szükséges.\n",
      "sift_sobel: 95.0% variancia eléréséhez 2048 komponens szükséges.\n",
      "sift_sobel_variance_plot.png mentve.\n",
      "feature_reduction\\sobel\\sift\\sift_sobel_pca_10.csv mentve.\n",
      "feature_reduction\\sobel\\sift\\sift_sobel_pca_20.csv mentve.\n",
      "feature_reduction\\sobel\\sift\\sift_sobel_pca_50.csv mentve.\n",
      "feature_reduction\\sobel\\sift\\sift_sobel_pca_100.csv mentve.\n",
      "feature_reduction\\sobel\\sift\\sift_sobel_pca_200.csv mentve.\n",
      "feature_reduction\\sobel\\sift\\sift_sobel_pca_500.csv mentve.\n"
     ]
    },
    {
     "name": "stderr",
     "output_type": "stream",
     "text": []
    },
    {
     "name": "stdout",
     "output_type": "stream",
     "text": [
      "feature_reduction\\sobel\\sift\\sift_sobel_pca_1000.csv mentve.\n",
      "glcm_sobel: 80.0% variancia eléréséhez 2 komponens szükséges.\n",
      "glcm_sobel: 90.0% variancia eléréséhez 3 komponens szükséges.\n",
      "glcm_sobel: 95.0% variancia eléréséhez 4 komponens szükséges.\n"
     ]
    },
    {
     "name": "stderr",
     "output_type": "stream",
     "text": []
    },
    {
     "name": "stdout",
     "output_type": "stream",
     "text": [
      "glcm_sobel_variance_plot.png mentve.\n",
      "feature_reduction\\sobel\\glcm\\glcm_sobel_pca_10.csv mentve.\n",
      "glcm_sobel: 20 komponens nem lehetséges, max 16.\n",
      "glcm_sobel: 50 komponens nem lehetséges, max 16.\n",
      "glcm_sobel: 100 komponens nem lehetséges, max 16.\n",
      "glcm_sobel: 200 komponens nem lehetséges, max 16.\n",
      "glcm_sobel: 500 komponens nem lehetséges, max 16.\n",
      "glcm_sobel: 1000 komponens nem lehetséges, max 16.\n",
      "stat_sobel: 80.0% variancia eléréséhez 3 komponens szükséges.\n",
      "stat_sobel: 90.0% variancia eléréséhez 4 komponens szükséges.\n",
      "stat_sobel: 95.0% variancia eléréséhez 5 komponens szükséges.\n"
     ]
    },
    {
     "name": "stderr",
     "output_type": "stream",
     "text": []
    },
    {
     "name": "stdout",
     "output_type": "stream",
     "text": [
      "stat_sobel_variance_plot.png mentve.\n",
      "feature_reduction\\sobel\\stat\\stat_sobel_pca_10.csv mentve.\n",
      "stat_sobel: 20 komponens nem lehetséges, max 11.\n",
      "stat_sobel: 50 komponens nem lehetséges, max 11.\n",
      "stat_sobel: 100 komponens nem lehetséges, max 11.\n",
      "stat_sobel: 200 komponens nem lehetséges, max 11.\n",
      "stat_sobel: 500 komponens nem lehetséges, max 11.\n",
      "stat_sobel: 1000 komponens nem lehetséges, max 11.\n",
      "hog_lbp_combined_sobel: 80.0% variancia eléréséhez 507 komponens szükséges.\n",
      "hog_lbp_combined_sobel: 90.0% variancia eléréséhez 915 komponens szükséges.\n",
      "hog_lbp_combined_sobel: 95.0% variancia eléréséhez 1301 komponens szükséges.\n",
      "hog_lbp_combined_sobel_variance_plot.png mentve.\n",
      "feature_reduction\\sobel\\hog_lbp_combined\\hog_lbp_combined_sobel_pca_10.csv mentve.\n",
      "feature_reduction\\sobel\\hog_lbp_combined\\hog_lbp_combined_sobel_pca_20.csv mentve.\n",
      "feature_reduction\\sobel\\hog_lbp_combined\\hog_lbp_combined_sobel_pca_50.csv mentve.\n",
      "feature_reduction\\sobel\\hog_lbp_combined\\hog_lbp_combined_sobel_pca_100.csv mentve.\n",
      "feature_reduction\\sobel\\hog_lbp_combined\\hog_lbp_combined_sobel_pca_200.csv mentve.\n",
      "feature_reduction\\sobel\\hog_lbp_combined\\hog_lbp_combined_sobel_pca_500.csv mentve.\n"
     ]
    },
    {
     "name": "stderr",
     "output_type": "stream",
     "text": []
    },
    {
     "name": "stdout",
     "output_type": "stream",
     "text": [
      "feature_reduction\\sobel\\hog_lbp_combined\\hog_lbp_combined_sobel_pca_1000.csv mentve.\n",
      "all_combined_sobel: 80.0% variancia eléréséhez 1190 komponens szükséges.\n",
      "all_combined_sobel: 90.0% variancia eléréséhez 1747 komponens szükséges.\n",
      "all_combined_sobel: 95.0% variancia eléréséhez 2186 komponens szükséges.\n",
      "all_combined_sobel_variance_plot.png mentve.\n",
      "feature_reduction\\sobel\\all_combined\\all_combined_sobel_pca_10.csv mentve.\n",
      "feature_reduction\\sobel\\all_combined\\all_combined_sobel_pca_20.csv mentve.\n",
      "feature_reduction\\sobel\\all_combined\\all_combined_sobel_pca_50.csv mentve.\n",
      "feature_reduction\\sobel\\all_combined\\all_combined_sobel_pca_100.csv mentve.\n",
      "feature_reduction\\sobel\\all_combined\\all_combined_sobel_pca_200.csv mentve.\n",
      "feature_reduction\\sobel\\all_combined\\all_combined_sobel_pca_500.csv mentve.\n"
     ]
    },
    {
     "name": "stderr",
     "output_type": "stream",
     "text": [
      "sobel PCA csökkentés: 100%|██████████| 7/7 [07:50<00:00, 67.26s/it]\n",
      "Előfeldolgozási típusok:  80%|████████  | 4/5 [1:03:08<16:04, 964.09s/it]"
     ]
    },
    {
     "name": "stdout",
     "output_type": "stream",
     "text": [
      "feature_reduction\\sobel\\all_combined\\all_combined_sobel_pca_1000.csv mentve.\n",
      "Előfeldolgozás: canny\n"
     ]
    },
    {
     "name": "stderr",
     "output_type": "stream",
     "text": [
      "c:\\Users\\misur\\AppData\\Local\\Programs\\Python\\Python312\\Lib\\site-packages\\skimage\\feature\\texture.py:360: UserWarning: Applying `local_binary_pattern` to floating-point images may give unexpected results when small numerical differences between adjacent pixels are present. It is recommended to use this function with images of integer dtype.\n",
      "  warnings.warn(\n"
     ]
    },
    {
     "name": "stdout",
     "output_type": "stream",
     "text": [
      "original_features\\canny\\hog_canny_features.csv mentve.\n",
      "original_features\\canny\\lbp_canny_features.csv mentve.\n"
     ]
    },
    {
     "name": "stderr",
     "output_type": "stream",
     "text": []
    },
    {
     "name": "stdout",
     "output_type": "stream",
     "text": [
      "original_features\\canny\\sift_canny_features.csv mentve.\n",
      "original_features\\canny\\glcm_canny_features.csv mentve.\n",
      "original_features\\canny\\stat_canny_features.csv mentve.\n"
     ]
    },
    {
     "name": "stderr",
     "output_type": "stream",
     "text": []
    },
    {
     "name": "stdout",
     "output_type": "stream",
     "text": [
      "original_features\\canny\\hog_lbp_combined_canny_features.csv mentve.\n"
     ]
    },
    {
     "name": "stderr",
     "output_type": "stream",
     "text": [
      "canny eredeti jellemzők mentése: 100%|██████████| 7/7 [02:40<00:00, 22.97s/it]\n"
     ]
    },
    {
     "name": "stdout",
     "output_type": "stream",
     "text": [
      "original_features\\canny\\all_combined_canny_features.csv mentve.\n"
     ]
    },
    {
     "name": "stderr",
     "output_type": "stream",
     "text": []
    },
    {
     "name": "stdout",
     "output_type": "stream",
     "text": [
      "hog_canny: 80.0% variancia eléréséhez 280 komponens szükséges.\n",
      "hog_canny: 90.0% variancia eléréséhez 496 komponens szükséges.\n",
      "hog_canny: 95.0% variancia eléréséhez 709 komponens szükséges.\n",
      "hog_canny_variance_plot.png mentve.\n",
      "feature_reduction\\canny\\hog\\hog_canny_pca_10.csv mentve.\n",
      "feature_reduction\\canny\\hog\\hog_canny_pca_20.csv mentve.\n",
      "feature_reduction\\canny\\hog\\hog_canny_pca_50.csv mentve.\n",
      "feature_reduction\\canny\\hog\\hog_canny_pca_100.csv mentve.\n",
      "feature_reduction\\canny\\hog\\hog_canny_pca_200.csv mentve.\n",
      "feature_reduction\\canny\\hog\\hog_canny_pca_500.csv mentve.\n"
     ]
    },
    {
     "name": "stderr",
     "output_type": "stream",
     "text": []
    },
    {
     "name": "stdout",
     "output_type": "stream",
     "text": [
      "feature_reduction\\canny\\hog\\hog_canny_pca_1000.csv mentve.\n",
      "lbp_canny: 80.0% variancia eléréséhez 3 komponens szükséges.\n",
      "lbp_canny: 90.0% variancia eléréséhez 4 komponens szükséges.\n",
      "lbp_canny: 95.0% variancia eléréséhez 4 komponens szükséges.\n",
      "lbp_canny_variance_plot.png mentve.\n"
     ]
    },
    {
     "name": "stderr",
     "output_type": "stream",
     "text": []
    },
    {
     "name": "stdout",
     "output_type": "stream",
     "text": [
      "feature_reduction\\canny\\lbp\\lbp_canny_pca_10.csv mentve.\n",
      "feature_reduction\\canny\\lbp\\lbp_canny_pca_20.csv mentve.\n",
      "lbp_canny: 50 komponens nem lehetséges, max 26.\n",
      "lbp_canny: 100 komponens nem lehetséges, max 26.\n",
      "lbp_canny: 200 komponens nem lehetséges, max 26.\n",
      "lbp_canny: 500 komponens nem lehetséges, max 26.\n",
      "lbp_canny: 1000 komponens nem lehetséges, max 26.\n",
      "sift_canny: 80.0% variancia eléréséhez 1421 komponens szükséges.\n",
      "sift_canny: 90.0% variancia eléréséhez 1954 komponens szükséges.\n",
      "sift_canny: 95.0% variancia eléréséhez 2358 komponens szükséges.\n",
      "sift_canny_variance_plot.png mentve.\n",
      "feature_reduction\\canny\\sift\\sift_canny_pca_10.csv mentve.\n",
      "feature_reduction\\canny\\sift\\sift_canny_pca_20.csv mentve.\n",
      "feature_reduction\\canny\\sift\\sift_canny_pca_50.csv mentve.\n",
      "feature_reduction\\canny\\sift\\sift_canny_pca_100.csv mentve.\n",
      "feature_reduction\\canny\\sift\\sift_canny_pca_200.csv mentve.\n",
      "feature_reduction\\canny\\sift\\sift_canny_pca_500.csv mentve.\n"
     ]
    },
    {
     "name": "stderr",
     "output_type": "stream",
     "text": []
    },
    {
     "name": "stdout",
     "output_type": "stream",
     "text": [
      "feature_reduction\\canny\\sift\\sift_canny_pca_1000.csv mentve.\n",
      "glcm_canny: 80.0% variancia eléréséhez 1 komponens szükséges.\n",
      "glcm_canny: 90.0% variancia eléréséhez 1 komponens szükséges.\n",
      "glcm_canny: 95.0% variancia eléréséhez 2 komponens szükséges.\n",
      "glcm_canny_variance_plot.png mentve.\n"
     ]
    },
    {
     "name": "stderr",
     "output_type": "stream",
     "text": []
    },
    {
     "name": "stdout",
     "output_type": "stream",
     "text": [
      "feature_reduction\\canny\\glcm\\glcm_canny_pca_10.csv mentve.\n",
      "glcm_canny: 20 komponens nem lehetséges, max 16.\n",
      "glcm_canny: 50 komponens nem lehetséges, max 16.\n",
      "glcm_canny: 100 komponens nem lehetséges, max 16.\n",
      "glcm_canny: 200 komponens nem lehetséges, max 16.\n",
      "glcm_canny: 500 komponens nem lehetséges, max 16.\n",
      "glcm_canny: 1000 komponens nem lehetséges, max 16.\n",
      "stat_canny: 80.0% variancia eléréséhez 3 komponens szükséges.\n",
      "stat_canny: 90.0% variancia eléréséhez 4 komponens szükséges.\n",
      "stat_canny: 95.0% variancia eléréséhez 4 komponens szükséges.\n",
      "stat_canny_variance_plot.png mentve.\n"
     ]
    },
    {
     "name": "stderr",
     "output_type": "stream",
     "text": []
    },
    {
     "name": "stdout",
     "output_type": "stream",
     "text": [
      "feature_reduction\\canny\\stat\\stat_canny_pca_10.csv mentve.\n",
      "stat_canny: 20 komponens nem lehetséges, max 11.\n",
      "stat_canny: 50 komponens nem lehetséges, max 11.\n",
      "stat_canny: 100 komponens nem lehetséges, max 11.\n",
      "stat_canny: 200 komponens nem lehetséges, max 11.\n",
      "stat_canny: 500 komponens nem lehetséges, max 11.\n",
      "stat_canny: 1000 komponens nem lehetséges, max 11.\n",
      "hog_lbp_combined_canny: 80.0% variancia eléréséhez 281 komponens szükséges.\n",
      "hog_lbp_combined_canny: 90.0% variancia eléréséhez 497 komponens szükséges.\n",
      "hog_lbp_combined_canny: 95.0% variancia eléréséhez 711 komponens szükséges.\n",
      "hog_lbp_combined_canny_variance_plot.png mentve.\n",
      "feature_reduction\\canny\\hog_lbp_combined\\hog_lbp_combined_canny_pca_10.csv mentve.\n",
      "feature_reduction\\canny\\hog_lbp_combined\\hog_lbp_combined_canny_pca_20.csv mentve.\n",
      "feature_reduction\\canny\\hog_lbp_combined\\hog_lbp_combined_canny_pca_50.csv mentve.\n",
      "feature_reduction\\canny\\hog_lbp_combined\\hog_lbp_combined_canny_pca_100.csv mentve.\n",
      "feature_reduction\\canny\\hog_lbp_combined\\hog_lbp_combined_canny_pca_200.csv mentve.\n",
      "feature_reduction\\canny\\hog_lbp_combined\\hog_lbp_combined_canny_pca_500.csv mentve.\n"
     ]
    },
    {
     "name": "stderr",
     "output_type": "stream",
     "text": []
    },
    {
     "name": "stdout",
     "output_type": "stream",
     "text": [
      "feature_reduction\\canny\\hog_lbp_combined\\hog_lbp_combined_canny_pca_1000.csv mentve.\n",
      "all_combined_canny: 80.0% variancia eléréséhez 1403 komponens szükséges.\n",
      "all_combined_canny: 90.0% variancia eléréséhez 1954 komponens szükséges.\n",
      "all_combined_canny: 95.0% variancia eléréséhez 2366 komponens szükséges.\n",
      "all_combined_canny_variance_plot.png mentve.\n",
      "feature_reduction\\canny\\all_combined\\all_combined_canny_pca_10.csv mentve.\n",
      "feature_reduction\\canny\\all_combined\\all_combined_canny_pca_20.csv mentve.\n",
      "feature_reduction\\canny\\all_combined\\all_combined_canny_pca_50.csv mentve.\n",
      "feature_reduction\\canny\\all_combined\\all_combined_canny_pca_100.csv mentve.\n",
      "feature_reduction\\canny\\all_combined\\all_combined_canny_pca_200.csv mentve.\n",
      "feature_reduction\\canny\\all_combined\\all_combined_canny_pca_500.csv mentve.\n"
     ]
    },
    {
     "name": "stderr",
     "output_type": "stream",
     "text": [
      "canny PCA csökkentés: 100%|██████████| 7/7 [07:48<00:00, 66.93s/it]\n",
      "Előfeldolgozási típusok: 100%|██████████| 5/5 [1:18:48<00:00, 945.65s/it]"
     ]
    },
    {
     "name": "stdout",
     "output_type": "stream",
     "text": [
      "feature_reduction\\canny\\all_combined\\all_combined_canny_pca_1000.csv mentve.\n"
     ]
    },
    {
     "name": "stderr",
     "output_type": "stream",
     "text": [
      "\n"
     ]
    }
   ],
   "source": [
    "for preprocess_name, images in tqdm(preprocess_types.items(), desc=\"Preprocessing types\"):\n",
    "    print(f\"Preprocessing: {preprocess_name}\")\n",
    "    \n",
    "    # Feature extraction\n",
    "    hog_features = extract_hog_features(images)\n",
    "    lbp_features = extract_lbp_features(images)\n",
    "    sift_features = extract_sift_features(images)\n",
    "    glcm_features = extract_glcm_features(images)\n",
    "    stat_features = extract_statistical_features(images)\n",
    "    hog_lbp_features = np.hstack((hog_features, lbp_features))\n",
    "    all_combined_features = np.hstack((hog_features, lbp_features, sift_features, glcm_features, stat_features))\n",
    "    \n",
    "    # Define feature sets\n",
    "    feature_sets = [\n",
    "        (hog_features, 'hog'),\n",
    "        (lbp_features, 'lbp'),\n",
    "        (sift_features, 'sift'),\n",
    "        (glcm_features, 'glcm'),\n",
    "        (stat_features, 'stat'),\n",
    "        (hog_lbp_features, 'hog_lbp_combined'),\n",
    "        (all_combined_features, 'all_combined')\n",
    "    ]\n",
    "    \n",
    "    # Save original features\n",
    "    original_preprocess_dir = os.path.join(original_output_dir, preprocess_name)\n",
    "    os.makedirs(original_preprocess_dir, exist_ok=True)\n",
    "    for features, feature_name in tqdm(feature_sets, desc=f\"Saving original features for {preprocess_name}\"):\n",
    "        save_original_to_csv(features, labels, feature_name, preprocess_name, original_preprocess_dir)\n",
    "    \n",
    "    # PCA reduction and saving\n",
    "    pca_preprocess_dir = os.path.join(pca_output_dir, preprocess_name)\n",
    "    os.makedirs(pca_preprocess_dir, exist_ok=True)\n",
    "    for features, feature_name in tqdm(feature_sets, desc=f\"{preprocess_name} PCA reduction\"):\n",
    "        apply_pca_and_save(features, labels, feature_name, preprocess_name, pca_preprocess_dir, n_components_list)\n"
   ]
  }
 ],
 "metadata": {
  "kernelspec": {
   "display_name": "Python 3",
   "language": "python",
   "name": "python3"
  },
  "language_info": {
   "codemirror_mode": {
    "name": "ipython",
    "version": 3
   },
   "file_extension": ".py",
   "mimetype": "text/x-python",
   "name": "python",
   "nbconvert_exporter": "python",
   "pygments_lexer": "ipython3",
   "version": "3.12.6"
  }
 },
 "nbformat": 4,
 "nbformat_minor": 5
}
