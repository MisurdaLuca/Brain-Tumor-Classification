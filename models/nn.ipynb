version https://git-lfs.github.com/spec/v1
oid sha256:9050da6fba681090e621267da0380ba065d8dd4d6413efc4f6e454add862a948
size 1255618
