version https://git-lfs.github.com/spec/v1
oid sha256:eb82f2fac696a0fa3b3b02e00b084b7ae6bbf8697e274bae9d48cffc6512e9c0
size 1295976
